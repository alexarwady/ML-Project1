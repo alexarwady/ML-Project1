{
 "cells": [
  {
   "cell_type": "code",
   "execution_count": 1,
   "metadata": {
    "collapsed": false
   },
   "outputs": [],
   "source": [
    "# Useful starting lines\n",
    "import numpy as np\n",
    "from proj1_helpers import *\n",
    "from cross_validation import *\n",
    "from helpers import *\n",
    "from implementations import *\n",
    "\n",
    "%load_ext autoreload\n",
    "%autoreload 2\n",
    "\n",
    "# Define seed for train/test random splitting\n",
    "seed = 10"
   ]
  },
  {
   "cell_type": "markdown",
   "metadata": {},
   "source": [
    "## Load the training data into feature matrix, class labels, and event ids:"
   ]
  },
  {
   "cell_type": "code",
   "execution_count": 2,
   "metadata": {
    "collapsed": false
   },
   "outputs": [],
   "source": [
    "DATA_TRAIN_PATH = 'data/train.csv' # TODO: download train data and supply path here \n",
    "DATA_TEST_PATH = 'data/test.csv' # TODO: download train data and supply path here"
   ]
  },
  {
   "cell_type": "markdown",
   "metadata": {},
   "source": [
    "We load the training data into our y (labels), tX (input matrix) and ids (indexes)"
   ]
  },
  {
   "cell_type": "code",
   "execution_count": 3,
   "metadata": {
    "collapsed": false
   },
   "outputs": [],
   "source": [
    "y, tX, ids = load_csv_data(DATA_TRAIN_PATH)"
   ]
  },
  {
   "cell_type": "markdown",
   "metadata": {},
   "source": [
    "## Gradient descent"
   ]
  },
  {
   "cell_type": "code",
   "execution_count": 4,
   "metadata": {
    "collapsed": false
   },
   "outputs": [
    {
     "name": "stdout",
     "output_type": "stream",
     "text": [
      "0 - Training accuracy: 0.762916 / Test accuracy : 0.764600\n",
      "1 - Training accuracy: 0.764182 / Test accuracy : 0.758680\n",
      "2 - Training accuracy: 0.763200 / Test accuracy : 0.767200\n",
      "3 - Training accuracy: 0.763733 / Test accuracy : 0.761080\n",
      "4 - Training accuracy: 0.763133 / Test accuracy : 0.764400\n",
      "5 - Training accuracy: 0.763449 / Test accuracy : 0.761720\n",
      "6 - Training accuracy: 0.763062 / Test accuracy : 0.760840\n",
      "7 - Training accuracy: 0.763262 / Test accuracy : 0.765520\n",
      "8 - Training accuracy: 0.762427 / Test accuracy : 0.765280\n",
      "9 - Training accuracy: 0.763173 / Test accuracy : 0.762360\n",
      "\n",
      "Average test accuracy: 0.763168\n",
      "Variance test accuracy: 0.000006\n",
      "Min test accuracy: 0.758680\n",
      "Max test accuracy: 0.767200\n"
     ]
    }
   ],
   "source": [
    "k_fold = 10\n",
    "\n",
    "# Split data in k-fold\n",
    "k_indices = build_k_indices(y, k_fold, seed)\n",
    "\n",
    "# Model parameters\n",
    "gamma = 0.01\n",
    "max_iters = 500\n",
    "\n",
    "accs_train = []\n",
    "accs_test = []\n",
    "\n",
    "for k in range(k_fold):\n",
    "    acc_train, acc_test = cross_validation(y, tX, k_indices, k, least_squares_gd, initial_w=None, max_iters=max_iters, gamma=gamma)\n",
    "    accs_train.append(acc_train)\n",
    "    accs_test.append(acc_test)\n",
    "    \n",
    "for i in range(len(accs_train)):\n",
    "    print(\"%d - Training accuracy: %f / Test accuracy : %f\" % (i, accs_train[i], accs_test[i]))\n",
    "\n",
    "print(\"\\nAverage test accuracy: %f\" % np.mean(accs_test))\n",
    "print(\"Variance test accuracy: %f\" % np.var(accs_test))\n",
    "print(\"Min test accuracy: %f\" % np.min(accs_test))\n",
    "print(\"Max test accuracy: %f\" % np.max(accs_test))"
   ]
  },
  {
   "cell_type": "markdown",
   "metadata": {},
   "source": [
    "## Stochastic gradient descent"
   ]
  },
  {
   "cell_type": "code",
   "execution_count": 5,
   "metadata": {
    "collapsed": false
   },
   "outputs": [
    {
     "name": "stdout",
     "output_type": "stream",
     "text": [
      "0 - Training accuracy: 0.688742 / Test accuracy : 0.689160\n",
      "1 - Training accuracy: 0.676387 / Test accuracy : 0.677600\n",
      "2 - Training accuracy: 0.633613 / Test accuracy : 0.634400\n",
      "3 - Training accuracy: 0.674324 / Test accuracy : 0.671400\n",
      "4 - Training accuracy: 0.688796 / Test accuracy : 0.693120\n",
      "5 - Training accuracy: 0.687262 / Test accuracy : 0.684240\n",
      "6 - Training accuracy: 0.696013 / Test accuracy : 0.694320\n",
      "7 - Training accuracy: 0.728467 / Test accuracy : 0.732600\n",
      "8 - Training accuracy: 0.702493 / Test accuracy : 0.704560\n",
      "9 - Training accuracy: 0.679089 / Test accuracy : 0.681080\n",
      "\n",
      "Average test accuracy: 0.686248\n",
      "Variance test accuracy: 0.000562\n",
      "Min test accuracy: 0.634400\n",
      "Max test accuracy: 0.732600\n"
     ]
    }
   ],
   "source": [
    "k_fold = 10\n",
    "gamma = 0.01\n",
    "max_iters = 100\n",
    "\n",
    "# Split data in k-fold\n",
    "k_indices = build_k_indices(y, k_fold, seed)\n",
    "\n",
    "accs_train = []\n",
    "accs_test = []\n",
    "\n",
    "for k in range(k_fold):\n",
    "    acc_train, acc_test = cross_validation(y, tX, k_indices, k, least_squares_sgd, initial_w=None, max_iters=max_iters, gamma=gamma)\n",
    "    accs_train.append(acc_train)\n",
    "    accs_test.append(acc_test)\n",
    "    \n",
    "for i in range(len(accs_train)):\n",
    "    print(\"%d - Training accuracy: %f / Test accuracy : %f\" % (i, accs_train[i], accs_test[i]))\n",
    "\n",
    "print(\"\\nAverage test accuracy: %f\" % np.mean(accs_test))\n",
    "print(\"Variance test accuracy: %f\" % np.var(accs_test))\n",
    "print(\"Min test accuracy: %f\" % np.min(accs_test))\n",
    "print(\"Max test accuracy: %f\" % np.max(accs_test))"
   ]
  },
  {
   "cell_type": "markdown",
   "metadata": {},
   "source": [
    "## Least squares"
   ]
  },
  {
   "cell_type": "code",
   "execution_count": 6,
   "metadata": {
    "collapsed": false
   },
   "outputs": [
    {
     "name": "stdout",
     "output_type": "stream",
     "text": [
      "0 - Training accuracy: 0.776400 / Test accuracy : 0.775120\n",
      "1 - Training accuracy: 0.777689 / Test accuracy : 0.772280\n",
      "2 - Training accuracy: 0.777324 / Test accuracy : 0.779400\n",
      "3 - Training accuracy: 0.777453 / Test accuracy : 0.774560\n",
      "4 - Training accuracy: 0.776422 / Test accuracy : 0.778600\n",
      "5 - Training accuracy: 0.776787 / Test accuracy : 0.776040\n",
      "6 - Training accuracy: 0.776698 / Test accuracy : 0.773560\n",
      "7 - Training accuracy: 0.776773 / Test accuracy : 0.780200\n",
      "8 - Training accuracy: 0.775524 / Test accuracy : 0.777160\n",
      "9 - Training accuracy: 0.776147 / Test accuracy : 0.779080\n",
      "\n",
      "Average test accuracy: 0.776600\n",
      "Variance test accuracy: 0.000007\n",
      "Min test accuracy: 0.772280\n",
      "Max test accuracy: 0.780200\n"
     ]
    }
   ],
   "source": [
    "k_fold = 10\n",
    "\n",
    "# Split data in k-fold\n",
    "k_indices = build_k_indices(y, k_fold, seed)\n",
    "\n",
    "accs_train = []\n",
    "accs_test = []\n",
    "\n",
    "for k in range(k_fold):\n",
    "    acc_train, acc_test = cross_validation(y, tX, k_indices, k, least_squares)\n",
    "    accs_train.append(acc_train)\n",
    "    accs_test.append(acc_test)\n",
    "    \n",
    "for i in range(len(accs_train)):\n",
    "    print(\"%d - Training accuracy: %f / Test accuracy : %f\" % (i, accs_train[i], accs_test[i]))\n",
    "\n",
    "print(\"\\nAverage test accuracy: %f\" % np.mean(accs_test))\n",
    "print(\"Variance test accuracy: %f\" % np.var(accs_test))\n",
    "print(\"Min test accuracy: %f\" % np.min(accs_test))\n",
    "print(\"Max test accuracy: %f\" % np.max(accs_test))"
   ]
  },
  {
   "cell_type": "markdown",
   "metadata": {},
   "source": [
    "## Ridge regression"
   ]
  },
  {
   "cell_type": "code",
   "execution_count": 7,
   "metadata": {
    "collapsed": false,
    "scrolled": false
   },
   "outputs": [
    {
     "name": "stdout",
     "output_type": "stream",
     "text": [
      "0 - Training accuracy: 0.838232 / Test accuracy : 0.832320\n",
      "1 - Training accuracy: 0.840952 / Test accuracy : 0.834792\n",
      "\n",
      "Average test accuracy: 0.833556\n",
      "Variance test accuracy: 0.000002\n",
      "Min test accuracy: 0.832320\n",
      "Max test accuracy: 0.834792\n"
     ]
    }
   ],
   "source": [
    "k_fold = 2\n",
    "lambdas = [0.002, 0.001, 0.001, 0.01]\n",
    "degrees = [4, 7, 9, 9]\n",
    "\n",
    "# Split data in k-fold\n",
    "k_indices = build_k_indices(y, k_fold, seed)\n",
    "\n",
    "accs_train = []\n",
    "accs_test = []\n",
    "\n",
    "for k in range(k_fold):\n",
    "    acc_train, acc_test = cross_validation_ridge_regression(y, tX, k_indices, k, lambdas, degrees)\n",
    "    accs_train.append(acc_train)\n",
    "    accs_test.append(acc_test)\n",
    "\n",
    "for i in range(len(accs_train)):\n",
    "    print(\"%d - Training accuracy: %f / Test accuracy : %f\" % (i, accs_train[i], accs_test[i]))\n",
    "\n",
    "print(\"\\nAverage test accuracy: %f\" % np.mean(accs_test))\n",
    "print(\"Variance test accuracy: %f\" % np.var(accs_test))\n",
    "print(\"Min test accuracy: %f\" % np.min(accs_test))\n",
    "print(\"Max test accuracy: %f\" % np.max(accs_test))"
   ]
  },
  {
   "cell_type": "markdown",
   "metadata": {},
   "source": [
    "## Logistic regression"
   ]
  },
  {
   "cell_type": "code",
   "execution_count": 8,
   "metadata": {
    "collapsed": false
   },
   "outputs": [
    {
     "name": "stderr",
     "output_type": "stream",
     "text": [
      "/Users/vfaramond/Repos/PCML-Project1/scripts/submission/costs.py:25: RuntimeWarning: invalid value encountered in log\n",
      "  l = np.log(1 + tx.dot(w))\n"
     ]
    },
    {
     "name": "stdout",
     "output_type": "stream",
     "text": [
      "0 - Training accuracy: 0.678978 / Test accuracy : 0.682600\n",
      "1 - Training accuracy: 0.678978 / Test accuracy : 0.678160\n",
      "2 - Training accuracy: 0.679098 / Test accuracy : 0.679560\n",
      "3 - Training accuracy: 0.679436 / Test accuracy : 0.677960\n",
      "4 - Training accuracy: 0.680462 / Test accuracy : 0.677560\n",
      "5 - Training accuracy: 0.680138 / Test accuracy : 0.682920\n",
      "6 - Training accuracy: 0.679773 / Test accuracy : 0.678120\n",
      "7 - Training accuracy: 0.678396 / Test accuracy : 0.675920\n",
      "8 - Training accuracy: 0.678796 / Test accuracy : 0.680440\n",
      "9 - Training accuracy: 0.679996 / Test accuracy : 0.678720\n",
      "\n",
      "Average test accuracy: 0.679196\n",
      "Variance test accuracy: 0.000004\n",
      "Min test accuracy: 0.675920\n",
      "Max test accuracy: 0.682920\n"
     ]
    }
   ],
   "source": [
    "k_fold = 10\n",
    "gamma = 0.6\n",
    "max_iters = 100\n",
    "\n",
    "# Split data in k-fold\n",
    "k_indices = build_k_indices(y, k_fold, seed)\n",
    "\n",
    "accs_train = []\n",
    "accs_test = []\n",
    "\n",
    "for k in range(k_fold):\n",
    "    acc_train, acc_test = cross_validation(y, tX, k_indices, k, logistic_regression, initial_w=None ,max_iters=max_iters, gamma=gamma)\n",
    "    accs_train.append(acc_train)\n",
    "    accs_test.append(acc_test)\n",
    "    \n",
    "for i in range(len(accs_train)):\n",
    "    print(\"%d - Training accuracy: %f / Test accuracy : %f\" % (i, accs_train[i], accs_test[i]))\n",
    "\n",
    "print(\"\\nAverage test accuracy: %f\" % np.mean(accs_test))\n",
    "print(\"Variance test accuracy: %f\" % np.var(accs_test))\n",
    "print(\"Min test accuracy: %f\" % np.min(accs_test))\n",
    "print(\"Max test accuracy: %f\" % np.max(accs_test))"
   ]
  },
  {
   "cell_type": "markdown",
   "metadata": {},
   "source": [
    "## Regularized logistic regression"
   ]
  },
  {
   "cell_type": "code",
   "execution_count": 9,
   "metadata": {
    "collapsed": false,
    "scrolled": false
   },
   "outputs": [
    {
     "name": "stderr",
     "output_type": "stream",
     "text": [
      "/Users/vfaramond/Repos/PCML-Project1/scripts/submission/costs.py:25: RuntimeWarning: invalid value encountered in log\n",
      "  l = np.log(1 + tx.dot(w))\n"
     ]
    },
    {
     "name": "stdout",
     "output_type": "stream",
     "text": [
      "0 - Training accuracy: 0.678978 / Test accuracy : 0.682600\n",
      "1 - Training accuracy: 0.678978 / Test accuracy : 0.678160\n",
      "2 - Training accuracy: 0.679098 / Test accuracy : 0.679560\n",
      "3 - Training accuracy: 0.679436 / Test accuracy : 0.677960\n",
      "4 - Training accuracy: 0.680462 / Test accuracy : 0.677560\n",
      "5 - Training accuracy: 0.680138 / Test accuracy : 0.682920\n",
      "6 - Training accuracy: 0.679773 / Test accuracy : 0.678120\n",
      "7 - Training accuracy: 0.678396 / Test accuracy : 0.675920\n",
      "8 - Training accuracy: 0.678796 / Test accuracy : 0.680440\n",
      "9 - Training accuracy: 0.679996 / Test accuracy : 0.678720\n",
      "\n",
      "Average test accuracy: 0.679196\n",
      "Variance test accuracy: 0.000004\n",
      "Min test accuracy: 0.675920\n",
      "Max test accuracy: 0.682920\n"
     ]
    }
   ],
   "source": [
    "k_fold = 10\n",
    "gamma = 0.6\n",
    "lambda_ = 0.04\n",
    "max_iters = 100\n",
    "\n",
    "# Split data in k-fold\n",
    "k_indices = build_k_indices(y, k_fold, seed)\n",
    "\n",
    "accs_train = []\n",
    "accs_test = []\n",
    "\n",
    "for k in range(k_fold):\n",
    "    acc_train, acc_test = cross_validation(y, tX, k_indices, k, reg_logistic_regression, lambda_=lambda_, initial_w=None, max_iters=max_iters, gamma=gamma)\n",
    "    accs_train.append(acc_train)\n",
    "    accs_test.append(acc_test)\n",
    "\n",
    "for i in range(len(accs_train)):\n",
    "    print(\"%d - Training accuracy: %f / Test accuracy : %f\" % (i, accs_train[i], accs_test[i]))\n",
    "\n",
    "print(\"\\nAverage test accuracy: %f\" % np.mean(accs_test))\n",
    "print(\"Variance test accuracy: %f\" % np.var(accs_test))\n",
    "print(\"Min test accuracy: %f\" % np.min(accs_test))\n",
    "print(\"Max test accuracy: %f\" % np.max(accs_test))"
   ]
  }
 ],
 "metadata": {
  "anaconda-cloud": {},
  "kernelspec": {
   "display_name": "Python [Root]",
   "language": "python",
   "name": "Python [Root]"
  },
  "language_info": {
   "codemirror_mode": {
    "name": "ipython",
    "version": 3
   },
   "file_extension": ".py",
   "mimetype": "text/x-python",
   "name": "python",
   "nbconvert_exporter": "python",
   "pygments_lexer": "ipython3",
   "version": "3.5.2"
  }
 },
 "nbformat": 4,
 "nbformat_minor": 0
}
